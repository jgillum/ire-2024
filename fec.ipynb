{
  "nbformat": 4,
  "nbformat_minor": 0,
  "metadata": {
    "colab": {
      "provenance": []
    },
    "kernelspec": {
      "name": "python3",
      "display_name": "Python 3"
    },
    "language_info": {
      "name": "python"
    }
  },
  "cells": [
    {
      "cell_type": "markdown",
      "source": [
        "### Where is Kari Lake getting her contributions?\n"
      ],
      "metadata": {
        "id": "I6dcyHhih0ug"
      }
    },
    {
      "cell_type": "code",
      "execution_count": null,
      "metadata": {
        "id": "MhcwQ8Wsd-EF"
      },
      "outputs": [],
      "source": [
        "import pandas as pd\n",
        "import requests\n",
        "import geopandas as gpd\n",
        "import matplotlib.pyplot as plt\n",
        "import json\n",
        "from google.colab import files\n",
        "\n",
        "per_page = '1000'\n",
        "candidate_id = 'S4AZ00220'\n",
        "cycle = '2024'\n",
        "api_key = 'XXXXX'\n",
        "\n",
        "url = f\"https://api.open.fec.gov/v1/schedules/schedule_a/by_state/by_candidate/?page=1&per_page={per_page}&candidate_id={candidate_id}&cycle={cycle}&api_key={api_key}\"\n",
        "\n",
        "response = requests.get(url)\n",
        "data = response.json()\n",
        "\n",
        "data = data['results']\n",
        "df = pd.DataFrame(data)\n",
        "\n"
      ]
    },
    {
      "cell_type": "code",
      "source": [
        "# Do some cleanup\n",
        "\n",
        "df = df[['count', 'state_full', 'total']]\n",
        "df['total'] = pd.to_numeric(df['total'])\n",
        "df['count'] = pd.to_numeric(df['count'])\n",
        "\n",
        "df_totals = df\n",
        "\n",
        "df_totals = df_totals.sort_values(by='total', ascending=False)\n",
        "print(df_totals)"
      ],
      "metadata": {
        "collapsed": true,
        "id": "vbF7SJSPeoFm"
      },
      "execution_count": null,
      "outputs": []
    },
    {
      "cell_type": "code",
      "source": [
        "\n",
        "url = \"https://raw.githubusercontent.com/PublicaMundi/MappingAPI/master/data/geojson/us-states.json\"\n",
        "\n",
        "response = requests.get(url)\n",
        "response.raise_for_status()  # Raise an exception if needed\n",
        "\n",
        "gdf = gpd.read_file(response.text)\n",
        "\n",
        "merged_gdf = gdf.merge(df_totals, left_on='name', right_on='state_full', how='left')\n"
      ],
      "metadata": {
        "id": "z3wKptBdjQsy"
      },
      "execution_count": null,
      "outputs": []
    },
    {
      "cell_type": "code",
      "source": [
        "# Create a choropleth map\n",
        "\n",
        "fig, ax = plt.subplots(1, 1, figsize=(10, 6))  # Adjust figure size as needed\n",
        "\n",
        "\n",
        "merged_gdf.plot(column='total',        # Column to visualize\n",
        "                cmap='Greens',         # Choose a colormap\n",
        "                linewidth=0.5,         # Border line width\n",
        "                edgecolor='black',     # Border line color\n",
        "                legend=True,           # Show legend\n",
        "                ax=ax)\n",
        "\n",
        "ax.set_title(\"Kari Lake's donors by state\")  # Set title\n",
        "ax.set_axis_off()\n",
        "\n",
        "plt.show()"
      ],
      "metadata": {
        "id": "UNpgdJ0smO19"
      },
      "execution_count": null,
      "outputs": []
    },
    {
      "cell_type": "code",
      "source": [
        "# Integrate state populations to make a rate\n",
        "\n",
        "state_pops = [{'state_full':'Pennsylvania','population':10353548},{'state_full':'California','population':30827105},{'state_full':'West Virginia','population':1432932},{'state_full':'Utah','population':2324051},{'state_full':'New York','population':16088135},{'state_full':'District of Columbia','population':575161},{'state_full':'Alaska','population':554003},{'state_full':'Florida','population':17339232},{'state_full':'South Carolina','population':4014460},{'state_full':'North Dakota','population':596093},{'state_full':'Maine','population':1110085},{'state_full':'Georgia','population':8220274},{'state_full':'Alabama','population':3917166},{'state_full':'New Hampshire','population':1120680},{'state_full':'Oregon','population':3370652},{'state_full':'Wyoming','population':441337},{'state_full':'Arizona','population':5541976},{'state_full':'Louisiana','population':3570548},{'state_full':'Indiana','population':5192579},{'state_full':'Idaho','population':1376400},{'state_full':'Connecticut','population':2869227},{'state_full':'Hawaii','population':1155905},{'state_full':'Illinois','population':9999469},{'state_full':'Massachusetts','population':5663723},{'state_full':'Texas','population':21866700},{'state_full':'Montana','population':850123},{'state_full':'Nebraska','population':1476127},{'state_full':'Ohio','population':9207562},{'state_full':'Colorado','population':4509576},{'state_full':'New Jersey','population':7281310},{'state_full':'Maryland','population':4815202},{'state_full':'Virginia','population':6745054},{'state_full':'Vermont','population':524482},{'state_full':'North Carolina','population':8155099},{'state_full':'Arkansas','population':2312273},{'state_full':'Washington','population':6024689},{'state_full':'Kansas','population':2229316},{'state_full':'Oklahoma','population':3010698},{'state_full':'Wisconsin','population':4612300},{'state_full':'Mississippi','population':2277599},{'state_full':'Missouri','population':4775612},{'state_full':'Michigan','population':7914602},{'state_full':'Rhode Island','population':887594},{'state_full':'Minnesota','population':4389033},{'state_full':'Iowa','population':2450103},{'state_full':'New Mexico','population':1638989},{'state_full':'Nevada','population':2413326},{'state_full':'Delaware','population':783543},{'state_full':'Puerto Rico','population':2724903},{'state_full':'Kentucky','population':3483900},{'state_full':'South Dakota','population':669255},{'state_full':'Tennessee','population':5384473}]\n",
        "\n",
        "df_pops = pd.DataFrame(state_pops)\n",
        "\n",
        "print(df_pops)\n"
      ],
      "metadata": {
        "id": "zup8aKGxoGJM"
      },
      "execution_count": null,
      "outputs": []
    },
    {
      "cell_type": "code",
      "source": [
        "# Merge DataFrames on 'state_name'\n",
        "\n",
        "merged_df = pd.merge(df_totals, df_pops, on='state_full')\n",
        "\n",
        "merged_df['rate_per_100k'] = (merged_df['total'] / merged_df['population']) * 100000\n",
        "\n",
        "print(merged_df)\n"
      ],
      "metadata": {
        "id": "Qa9tDzWYsPG-"
      },
      "execution_count": null,
      "outputs": []
    },
    {
      "cell_type": "code",
      "source": [
        "\n",
        "# Remove Arizona and make a map again\n",
        "\n",
        "mask = merged_df['state_full'] == 'Arizona'\n",
        "merged_df = merged_df[~mask]\n",
        "\n",
        "merged_gdf_rates = gdf.merge(merged_df, left_on='name', right_on='state_full', how='left')\n",
        "\n",
        "fig, ax = plt.subplots(1, 1, figsize=(16, 8))\n",
        "\n",
        "merged_gdf_rates.plot(column='rate_per_100k',  # Column to visualize\n",
        "                cmap='Greens',          # Choose a colormap\n",
        "                linewidth=0.5,          # Border line width\n",
        "                edgecolor='black',      # Border line color\n",
        "                legend=True,            # Show legend\n",
        "                ax=ax)\n",
        "\n",
        "ax.set_title(\"Kari Lake's donors per 100k\")\n",
        "ax.set_axis_off()\n",
        "\n",
        "plt.show()"
      ],
      "metadata": {
        "id": "lYMIP5bEsx47"
      },
      "execution_count": null,
      "outputs": []
    },
    {
      "cell_type": "code",
      "source": [
        "\n",
        "# Save the GeoDataFrame to a KML file and download\n",
        "merged_gdf_rates.to_file(\"kari_lake_donations.geojson\", driver='GeoJSON')\n",
        "\n",
        "files.download(\"kari_lake_donations.geojson\")\n"
      ],
      "metadata": {
        "id": "Q2bJx21nuYDr"
      },
      "execution_count": null,
      "outputs": []
    },
    {
      "cell_type": "markdown",
      "source": [
        "### Where is Ruben Gallego spending his money?"
      ],
      "metadata": {
        "id": "MVPymdac6dDG"
      }
    },
    {
      "cell_type": "code",
      "source": [
        "import pandas as pd\n",
        "import requests\n",
        "import geopandas as gpd\n",
        "import matplotlib.pyplot as plt\n",
        "import json\n",
        "from google.colab import files\n",
        "\n",
        "\n",
        "base_url = \"https://api.open.fec.gov/v1/schedules/schedule_b/by_recipient/\"\n",
        "params = {\n",
        "    \"per_page\": 100,\n",
        "    \"cycle\": 2024,\n",
        "    \"committee_id\": \"C00558627\",\n",
        "    \"api_key\": \"XXXXXX\"\n",
        "}\n",
        "\n",
        "all_results = []\n",
        "page = 1\n",
        "\n",
        "while True:\n",
        "    params['page'] = page\n",
        "\n",
        "    response = requests.get(base_url, params=params)\n",
        "    data = response.json()\n",
        "\n",
        "    if 'results' not in data or not data['results']:\n",
        "        break\n",
        "\n",
        "    all_results.extend(data['results'])\n",
        "    page += 1\n",
        "\n",
        "\n",
        "df = pd.DataFrame(all_results)"
      ],
      "metadata": {
        "id": "zLFeWz_46jQi"
      },
      "execution_count": null,
      "outputs": []
    },
    {
      "cell_type": "code",
      "source": [
        "# What do we have? First, let's make a copy\n",
        "\n",
        "df2 = df\n",
        "print(df2)\n"
      ],
      "metadata": {
        "id": "AiXjg_Fx9oR1"
      },
      "execution_count": null,
      "outputs": []
    },
    {
      "cell_type": "code",
      "source": [
        "# Sort from largest to smallest\n",
        "\n",
        "df2 = df2.sort_values(by='recipient_disbursement_percent', ascending=False)\n",
        "df2"
      ],
      "metadata": {
        "id": "7WnSJcWh7ky8"
      },
      "execution_count": null,
      "outputs": []
    },
    {
      "cell_type": "code",
      "source": [
        "df2 = df2[['recipient_name', 'recipient_disbursement_percent', 'total']].head()\n",
        "df2"
      ],
      "metadata": {
        "id": "bElpUXaw78aI"
      },
      "execution_count": null,
      "outputs": []
    },
    {
      "cell_type": "code",
      "source": [],
      "metadata": {
        "id": "MYcan6ANArBw"
      },
      "execution_count": null,
      "outputs": []
    }
  ]
}